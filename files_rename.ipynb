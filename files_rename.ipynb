{
  "nbformat": 4,
  "nbformat_minor": 0,
  "metadata": {
    "colab": {
      "provenance": []
    },
    "kernelspec": {
      "name": "python3",
      "display_name": "Python 3"
    },
    "language_info": {
      "name": "python"
    }
  },
  "cells": [
    {
      "cell_type": "code",
      "execution_count": null,
      "metadata": {
        "id": "eTyZFj_Uogum"
      },
      "outputs": [],
      "source": [
        "# Путь к новым папкам для копирования и переименования файлов\n",
        "dst_image_folder = \"C:\\\\Users\\\\Admin\\\\Desktop\\\\New_Image_Folder\"\n",
        "dst_label_folder = \"C:\\\\Users\\\\Admin\\\\Desktop\\\\New_Label_Folder\"\n",
        "\n",
        "# Создание новых папок, если они не существуют\n",
        "os.makedirs(dst_image_folder, exist_ok=True)\n",
        "os.makedirs(dst_label_folder, exist_ok=True)\n",
        "\n",
        "# Получение списка всех JPEG и TXT файлов\n",
        "src_image_files = sorted([f for f in os.listdir(src_image_folder) if f.endswith('.jpg')])\n",
        "src_label_files = sorted([f for f in os.listdir(src_label_folder) if f.endswith('.txt')])\n",
        "\n",
        "# Проверка на соответствие количества изображений и лейблов\n",
        "if len(src_image_files) != len(src_label_files):\n",
        "    print(\"Количество изображений и лейблов не совпадает. Пожалуйста, проверьте данные.\")\n",
        "else:\n",
        "    # Копирование и переименование файлов\n",
        "    for i, (image, label) in enumerate(zip(src_image_files, src_label_files)):\n",
        "        new_name = f\"13_{i + 1}\"\n",
        "\n",
        "        # Копирование и переименование изображения\n",
        "        shutil.copy(os.path.join(src_image_folder, image), os.path.join(dst_image_folder, f\"{new_name}.jpg\"))\n",
        "\n",
        "        # Копирование и переименование лейбла\n",
        "        shutil.copy(os.path.join(src_label_folder, label), os.path.join(dst_label_folder, f\"{new_name}.txt\"))\n",
        "\n",
        "        print(f\"Файлы {image} и {label} скопированы и переименованы в {new_name}.jpg и {new_name}.txt\")\n",
        "\n",
        "print(\"Копирование и переименование завершены.\")\n"
      ]
    }
  ]
}