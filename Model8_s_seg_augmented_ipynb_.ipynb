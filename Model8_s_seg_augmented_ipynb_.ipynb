{
  "nbformat": 4,
  "nbformat_minor": 0,
  "metadata": {
    "colab": {
      "provenance": [],
      "gpuType": "V100",
      "machine_shape": "hm"
    },
    "kernelspec": {
      "name": "python3",
      "display_name": "Python 3"
    },
    "language_info": {
      "name": "python"
    },
    "accelerator": "GPU"
  },
  "cells": [
    {
      "cell_type": "markdown",
      "source": [
        "**Модель с аугментацией и повышенным штрафом за 2 класса**"
      ],
      "metadata": {
        "id": "AUY71lFbfMWu"
      }
    },
    {
      "cell_type": "code",
      "execution_count": null,
      "metadata": {
        "colab": {
          "base_uri": "https://localhost:8080/"
        },
        "id": "d5BxI7WMsLEO",
        "outputId": "f3b3c3eb-cbce-4a9f-a2c8-8423b0cd679b"
      },
      "outputs": [
        {
          "output_type": "stream",
          "name": "stdout",
          "text": [
            "Mounted at /content/drive\n"
          ]
        }
      ],
      "source": [
        "import os\n",
        "import shutil\n",
        "from google.colab import drive\n",
        "\n",
        "# Монтирование Google Drive\n",
        "drive.mount('/content/drive')\n"
      ]
    },
    {
      "cell_type": "code",
      "source": [
        "import zipfile\n",
        "import shutil\n",
        "import os\n",
        "\n",
        "# Это уже аугментированный датасет. Путь к зазипованному датасету и директория, куда его нужно распаковать\n",
        "zip_path = '/content/drive/MyDrive/aug_dataset_1.2.zip'\n",
        "extract_path = '/content/aug_dataset_1.2'\n",
        "\n",
        "# Распаковка ZIP-файла\n",
        "with zipfile.ZipFile(zip_path, 'r') as zip_ref:\n",
        "    zip_ref.extractall(extract_path)\n",
        "\n",
        "# Путь для копирования в /content/\n",
        "local_zip_path = '/content/aug_dataset_1.2.zip'\n",
        "\n",
        "# Копирование файла\n",
        "shutil.copy(zip_path, local_zip_path)\n",
        "\n",
        "# Проверка успешного копирования\n",
        "if os.path.exists(local_zip_path):\n",
        "    print(f\"Файл {local_zip_path} успешно скопирован.\")\n",
        "else:\n",
        "    print(f\"Ошибка при копировании файла.\")\n",
        "\n"
      ],
      "metadata": {
        "id": "3HZKxo5Gu6hc",
        "colab": {
          "base_uri": "https://localhost:8080/"
        },
        "outputId": "85294bad-ca36-44af-be0c-1e3f38d9b6f9"
      },
      "execution_count": null,
      "outputs": [
        {
          "output_type": "stream",
          "name": "stdout",
          "text": [
            "Файл /content/aug_dataset_1.2.zip успешно скопирован.\n"
          ]
        }
      ]
    },
    {
      "cell_type": "code",
      "source": [
        "import os\n",
        "\n",
        "def count_files_in_directory(directory):\n",
        "    total_files = 0\n",
        "    for root, dirs, files in os.walk(directory):\n",
        "        total_files += len(files)\n",
        "    return total_files\n",
        "\n",
        "# Путь к папке\n",
        "dataset_path = '/content/aug_dataset_1.2'\n",
        "\n",
        "# Подсчет всех файлов во всех вложенных папках\n",
        "total_files = count_files_in_directory(dataset_path)\n",
        "\n",
        "# Вывод количества файлов\n",
        "print(f\"Всего файлов в папке {dataset_path} и её вложенных папках: {total_files}\")\n"
      ],
      "metadata": {
        "colab": {
          "base_uri": "https://localhost:8080/"
        },
        "id": "UnZHcV_zwI5Y",
        "outputId": "7c2aac68-e367-4441-e81a-0dc7cb79cdf7"
      },
      "execution_count": null,
      "outputs": [
        {
          "output_type": "stream",
          "name": "stdout",
          "text": [
            "Всего файлов в папке /content/aug_dataset_1.2 и её вложенных папках: 48348\n"
          ]
        }
      ]
    },
    {
      "cell_type": "code",
      "source": [
        "# Импорт необходимых библиотек для работы с YOLO и обучения модели\n",
        "import torch\n",
        "from torch import nn, optim\n",
        "from torch.utils.data import DataLoader\n",
        "from torchvision import datasets, transforms\n",
        "\n",
        "# Импорт библиотек для работы с файловой системой и визуализации\n",
        "import os\n",
        "import matplotlib.pyplot as plt\n",
        "\n",
        "print(\"Библиотеки успешно импортированы.\")\n"
      ],
      "metadata": {
        "colab": {
          "base_uri": "https://localhost:8080/"
        },
        "id": "kvZ9F9ihWw6n",
        "outputId": "702c5c32-5812-4e4e-e69b-d680fc8e73d7"
      },
      "execution_count": null,
      "outputs": [
        {
          "output_type": "stream",
          "name": "stdout",
          "text": [
            "Библиотеки успешно импортированы.\n"
          ]
        }
      ]
    },
    {
      "cell_type": "code",
      "source": [
        "\n",
        "!git clone https://github.com/ultralytics/ultralytics.git"
      ],
      "metadata": {
        "colab": {
          "base_uri": "https://localhost:8080/"
        },
        "id": "PrF6pnKtsm1c",
        "outputId": "2c253b46-35dd-479c-9bd3-a34c3f1510e1"
      },
      "execution_count": null,
      "outputs": [
        {
          "output_type": "stream",
          "name": "stdout",
          "text": [
            "Cloning into 'ultralytics'...\n",
            "remote: Enumerating objects: 17125, done.\u001b[K\n",
            "remote: Counting objects: 100% (40/40), done.\u001b[K\n",
            "remote: Compressing objects: 100% (34/34), done.\u001b[K\n",
            "remote: Total 17125 (delta 9), reused 26 (delta 6), pack-reused 17085\u001b[K\n",
            "Receiving objects: 100% (17125/17125), 9.02 MiB | 23.61 MiB/s, done.\n",
            "Resolving deltas: 100% (11967/11967), done.\n"
          ]
        }
      ]
    },
    {
      "cell_type": "code",
      "source": [
        "\n",
        "!pip install ultralytics==8.0.20\n",
        "from IPython import display\n",
        "display.clear_output()"
      ],
      "metadata": {
        "id": "mK3tLWepssuL"
      },
      "execution_count": null,
      "outputs": []
    },
    {
      "cell_type": "code",
      "source": [
        "# Нам надо поменять ямл - пути и ввести штрафы. сначала смотрим, акакой он сейчас\n",
        "import yaml\n",
        "\n",
        "with open(\"/content/data6.yaml\", 'r') as stream:\n",
        "    try:\n",
        "        data = yaml.safe_load(stream)\n",
        "        print(\"Пути в YAML-файле после обновления:\")\n",
        "        print(data)\n",
        "    except yaml.YAMLError as exc:\n",
        "        print(exc)\n"
      ],
      "metadata": {
        "colab": {
          "base_uri": "https://localhost:8080/"
        },
        "id": "7MaVAAps1lV6",
        "outputId": "767bb60a-65f3-4147-ba54-6635d6c373c0"
      },
      "execution_count": null,
      "outputs": [
        {
          "output_type": "stream",
          "name": "stdout",
          "text": [
            "Пути в YAML-файле после обновления:\n",
            "{'names': ['Agricultural object', 'Fields', 'Forest', 'Grassland', 'Industrial facility', 'Power lines', 'Public facility', 'Residential facility', 'Road', 'Water'], 'nc': 10, 'test': '/content/dataset_1.0/dataset_1.0/test/images', 'test_labels': '/content/dataset_1.0/dataset_1.0/test/labels', 'train': '/content/dataset_1.0/dataset_1.0/train/images', 'train_labels': '/content/dataset_1.0/dataset_1.0/train/labels', 'val': '/content/dataset_1.0/dataset_1.0/valid/images', 'val_labels': '/content/dataset_1.0/dataset_1.0/valid/labels'}\n"
          ]
        }
      ]
    },
    {
      "cell_type": "code",
      "source": [
        "pip install PyYAML\n"
      ],
      "metadata": {
        "colab": {
          "base_uri": "https://localhost:8080/"
        },
        "id": "GTdfDKrTcKei",
        "outputId": "40c4778d-a4ae-4bbc-d64d-f4b4ba30ede2"
      },
      "execution_count": null,
      "outputs": [
        {
          "output_type": "stream",
          "name": "stdout",
          "text": [
            "Requirement already satisfied: PyYAML in /usr/local/lib/python3.10/dist-packages (6.0.1)\n"
          ]
        }
      ]
    },
    {
      "cell_type": "code",
      "source": [
        "import yaml\n",
        "\n",
        "# Ямл меняем под новый датасет\n",
        "yaml_path = '/content/data6.yaml'\n",
        "\n",
        "# Чтение YAML-файла\n",
        "with open(yaml_path, 'r') as file:\n",
        "    yaml_data = yaml.safe_load(file)\n",
        "\n",
        "# Назначаем повышенные штрафы для недостаточных классов 4,5,6,7 и меняем пути\n",
        "yaml_data['names'] = ['Agricultural object', 'Fields', 'Forest', 'Grassland', 'Industrial facility', 'Power lines', 'Public facility', 'Residential facility', 'Road', 'Water']\n",
        "yaml_data['nc'] = 10  # количество классов\n",
        "yaml_data['cls_pw'] = [1.0, 1.0, 1.0, 1.0, 2.0, 2.0, 2.0, 2.0, 1.0, 1.0]  # веса классов\n",
        "yaml_data['train'] = '/content/aug_dataset_1.2/train/images'\n",
        "yaml_data['train_labels'] = '/content/aug_dataset_1.2/train/labels'\n",
        "yaml_data['val'] = '/content/aug_dataset_1.2/valid/images'\n",
        "yaml_data['val_labels'] = '/content/aug_dataset_1.2/valid/labels'\n",
        "\n",
        "# Удаление ключей для тестовых данных, если их нет (в новом датасете 1.2. нет папок тест, значит, эти пути убираем)\n",
        "if 'test' in yaml_data:\n",
        "    del yaml_data['test']\n",
        "if 'test_labels' in yaml_data:\n",
        "    del yaml_data['test_labels']\n",
        "\n",
        "# Сохранение изменений в том же YAML-файле\n",
        "with open(yaml_path, 'w') as file:\n",
        "    yaml.safe_dump(yaml_data, file)\n",
        "\n"
      ],
      "metadata": {
        "id": "JGsQIbkQcO4L"
      },
      "execution_count": null,
      "outputs": []
    },
    {
      "cell_type": "code",
      "source": [
        "from imgaug import augmenters as iaa\n",
        "import cv2\n",
        "import os\n",
        "import shutil\n",
        "\n",
        "# Если датасет уже аугментирован, эту ячейку не запускать!\n",
        "# Была попытка аугментировать все классы, но колаб не тянет такой датасет. в итоге это аугментация только файлов с объектами класса индастриал.\n",
        "# Гипотеза, что так можно улучшить очень низкий уровень дифференциации с классом резиденшиал. Выбран только поворот под углом.\n",
        "# Путь к папке с тренировочными изображениями и масками\n",
        "image_path = '/content/dataset_1.2/train/images'\n",
        "mask_path = '/content/dataset_1.2/train/labels'\n",
        "\n",
        "# ID класса \"индастриал\" в data.yaml\n",
        "industrial_class_id = 3  # Замените на актуальный ID\n",
        "\n",
        "# Аугментатор для поворота\n",
        "seq = iaa.Sequential([\n",
        "    iaa.Affine(rotate=(-25, 25))\n",
        "])\n",
        "\n",
        "# Функция для аугментации изображений и копирования масок\n",
        "def augment_images(image_path, mask_path, num_augmentations=1):\n",
        "    for filename in os.listdir(image_path):\n",
        "        img = cv2.imread(os.path.join(image_path, filename))\n",
        "        mask_filename = filename.split('.')[0] + '.txt'\n",
        "\n",
        "        # Проверка, содержит ли маска класс \"индастриал\"\n",
        "        with open(os.path.join(mask_path, mask_filename), 'r') as f:\n",
        "            lines = f.readlines()\n",
        "            if any(str(industrial_class_id) == line.split()[0] for line in lines):\n",
        "                for i in range(num_augmentations):\n",
        "                    images_aug = seq.augment_image(img)\n",
        "\n",
        "                    # Сохранение аугментированных изображений\n",
        "                    cv2.imwrite(os.path.join(image_path, f\"aug_{i}_{filename}\"), images_aug)\n",
        "\n",
        "                    # Копирование соответствующих масок\n",
        "                    new_mask_filename = f\"aug_{i}_{mask_filename}\"\n",
        "                    shutil.copy(os.path.join(mask_path, mask_filename), os.path.join(mask_path, new_mask_filename))\n",
        "\n",
        "# Применение аугментации\n",
        "augment_images(image_path, mask_path)\n",
        "\n"
      ],
      "metadata": {
        "id": "KO5Kn9R2fdUD"
      },
      "execution_count": null,
      "outputs": []
    },
    {
      "cell_type": "code",
      "source": [
        "# Ячейку не запускать при наличии готового АУГ-датасета. Проверяем, сколько всего получилось файлов и вес датасета.\n",
        "# Инициализация счетчика аугментированных файлов\n",
        "augmented_count = 0\n",
        "\n",
        "# Подсчет аугментированных файлов\n",
        "for filename in os.listdir(image_path):\n",
        "    if \"aug_\" in filename:\n",
        "        augmented_count += 1\n",
        "\n",
        "# Вывод количества аугментированных файлов\n",
        "print(f\"Total number of augmented files: {augmented_count}\")\n",
        "\n",
        "# Вывод веса датасета (в байтах)\n",
        "dataset_size = sum(os.path.getsize(os.path.join(dirpath, filename)) for dirpath, dirnames, filenames in os.walk('/content/dataset_1.2') for filename in filenames)\n",
        "print(f\"Total dataset size: {dataset_size} bytes\")\n",
        "\n"
      ],
      "metadata": {
        "colab": {
          "base_uri": "https://localhost:8080/"
        },
        "id": "AF740w9NHMSW",
        "outputId": "881e2cd6-72c7-4b77-a38c-0eda131e94f9"
      },
      "execution_count": null,
      "outputs": [
        {
          "output_type": "stream",
          "name": "stdout",
          "text": [
            "Total number of augmented files: 7064\n",
            "Total dataset size: 3043152110 bytes\n"
          ]
        }
      ]
    },
    {
      "cell_type": "code",
      "source": [
        "import os\n",
        "\n",
        "# Ячейку не запускать при наличсии АУГ-датасета. Путь к папке с тренировочными изображениями\n",
        "image_path = '/content/dataset_1.2/train/images'\n",
        "\n",
        "# Получение списка всех файлов в директории\n",
        "all_files = os.listdir(image_path)\n",
        "\n",
        "# Фильтрация списка, чтобы оставить только аугментированные файлы\n",
        "augmented_files = [f for f in all_files if f.startswith(\"aug_\")]\n",
        "\n",
        "# Вывод первых 10 аугментированных файлов\n",
        "print(augmented_files[:10])\n"
      ],
      "metadata": {
        "colab": {
          "base_uri": "https://localhost:8080/"
        },
        "id": "KczGoHvFufX1",
        "outputId": "c4c083a4-a41e-477c-adcb-397806aba041"
      },
      "execution_count": null,
      "outputs": [
        {
          "output_type": "stream",
          "name": "stdout",
          "text": [
            "['aug_0_DS1_6-7_3614.jpg', 'aug_0_DS1_6-7_5350.jpg', 'aug_0_DS1_13_258.jpg', 'aug_0_DS1_6-7_4779.jpg', 'aug_0_DS1_11-1_142.jpg', 'aug_0_DS1_12_274.jpg', 'aug_0_DS1_11-1_139.jpg', 'aug_0_DS1_6-7_5330.jpg', 'aug_0_DS1_6-7_2333.jpg', 'aug_0_DS1_6-7_4934.jpg']\n"
          ]
        }
      ]
    },
    {
      "cell_type": "code",
      "source": [
        "import zipfile\n",
        "# Распаковка готовго ауг-датасета\n",
        "zip_path = '/content/aug_dataset_1.2.zip'\n",
        "extract_path = '/content/aug_dataset_1.2'\n",
        "\n",
        "with zipfile.ZipFile(zip_path, 'r') as zip_ref:\n",
        "    zip_ref.extractall(extract_path)\n"
      ],
      "metadata": {
        "id": "Wej6A70wKiZ_"
      },
      "execution_count": null,
      "outputs": []
    },
    {
      "cell_type": "code",
      "source": [
        "import yaml\n",
        "#забыла подправить пути под ауг-датасет\n",
        "yaml_file_path = '/content/data6.yaml'\n",
        "\n",
        "# Чтение текущего YAML-файла\n",
        "with open(yaml_file_path, 'r') as file:\n",
        "    yaml_data = yaml.safe_load(file)\n",
        "\n",
        "# Обновление путей к изображениям и меткам\n",
        "yaml_data['train'] = '/content/aug_dataset_1.2/train/images'\n",
        "yaml_data['train_labels'] = '/content/aug_dataset_1.2/train/labels'\n",
        "yaml_data['val'] = '/content/aug_dataset_1.2/valid/images'\n",
        "yaml_data['val_labels'] = '/content/aug_dataset_1.2/valid/labels'\n",
        "\n",
        "# Сохранение обновленного YAML-файла\n",
        "with open(yaml_file_path, 'w') as file:\n",
        "    yaml.safe_dump(yaml_data, file)"
      ],
      "metadata": {
        "id": "rR1b3x1MKmaW"
      },
      "execution_count": null,
      "outputs": []
    },
    {
      "cell_type": "code",
      "source": [
        "import fiftyone as fo\n",
        "\n",
        "# При наличии платформы 51, не исполнялись в данном колабе. Создание нового датасета\n",
        "dataset = fo.Dataset(name=\"my_dataset\")\n",
        "\n",
        "# Загрузка изображений из директории\n",
        "dataset.add_images(\"/path/to/image/directory\")\n",
        "\n",
        "# Загрузка данных\n",
        "sample = fo.Sample(filepath=\"/path/to/image.jpg\")\n",
        "sample[\"label\"] = fo.Classification(label=\"cat\")\n",
        "dataset.add_sample(sample)\n",
        "\n",
        "sample.tags.append(\"train\")\n",
        "sample[\"custom_field\"] = 51\n",
        "\n",
        "dataset.add_sample(sample)\n",
        "\n",
        "view = dataset.match_tags(\"train\").sort_by(\"custom_field\").limit(10)\n",
        "\n",
        "for sample in view:\n",
        "    print(sample)"
      ],
      "metadata": {
        "id": "f59stBYqeu-s"
      },
      "execution_count": null,
      "outputs": []
    },
    {
      "cell_type": "code",
      "source": [
        "import fiftyone.brain as fob\n",
        "# При наличии платформы 51, не исполнялись в данном колабе.\n",
        "fob.compute_uniqueness(dataset)\n",
        "rank_view = dataset.sort_by(\"uniqueness\")"
      ],
      "metadata": {
        "id": "4VqYLjtle8ZC"
      },
      "execution_count": null,
      "outputs": []
    },
    {
      "cell_type": "code",
      "source": [
        "# Запуск сессии для визуализации\n",
        "# При наличии платформы 51, не исполнялись в данном колабе. Создание нового датасета\n",
        "session = fo.launch_app(dataset)"
      ],
      "metadata": {
        "id": "fRVO45cce8ZC"
      },
      "execution_count": null,
      "outputs": []
    },
    {
      "cell_type": "code",
      "source": [
        "#импортируем предобученную модель\n",
        "from ultralytics import YOLO\n",
        "\n",
        "model5 = YOLO('/content/yolov8s-seg.pt')\n",
        "# Display model information (optional)\n",
        "model5.info()\n"
      ],
      "metadata": {
        "id": "y_jksLgW5DCx",
        "colab": {
          "base_uri": "https://localhost:8080/"
        },
        "outputId": "73b51dee-4e5a-4251-fbff-ebcd6dfd96fb"
      },
      "execution_count": null,
      "outputs": [
        {
          "output_type": "stream",
          "name": "stderr",
          "text": [
            "Downloading https://github.com/ultralytics/assets/releases/download/v0.0.0/yolov8s-seg.pt to /content/yolov8s-seg.pt...\n",
            "100%|██████████| 22.8M/22.8M [00:00<00:00, 174MB/s]\n",
            "\n",
            "YOLOv8s-seg summary: 261 layers, 11821056 parameters, 0 gradients, 42.9 GFLOPs\n"
          ]
        }
      ]
    },
    {
      "cell_type": "code",
      "source": [
        "#тренируем модель, в установках показывает в колабе прогресс по каждой эпохе\n",
        "results = model5.train(data='/content/data6.yaml', epochs=20, imgsz=640, save=True, project='/content/runs', verbose=True)\n",
        "\n"
      ],
      "metadata": {
        "colab": {
          "base_uri": "https://localhost:8080/"
        },
        "id": "_RAAY42Bfgu-",
        "outputId": "7c12b1ff-7b6e-40eb-c163-987bcd99861f"
      },
      "execution_count": null,
      "outputs": [
        {
          "output_type": "stream",
          "name": "stderr",
          "text": [
            "Ultralytics YOLOv8.0.20 🚀 Python-3.10.12 torch-2.1.0+cu118 CUDA:0 (Tesla V100-SXM2-16GB, 16151MiB)\n",
            "\u001b[34m\u001b[1myolo/engine/trainer: \u001b[0mtask=segment, mode=train, model=yolov8s-seg.yaml, data=/content/data6.yaml, epochs=20, patience=50, batch=16, imgsz=640, save=True, cache=False, device=, workers=8, project=/content/runs, name=None, exist_ok=False, pretrained=False, optimizer=SGD, verbose=True, seed=0, deterministic=True, single_cls=False, image_weights=False, rect=False, cos_lr=False, close_mosaic=10, resume=False, overlap_mask=True, mask_ratio=4, dropout=False, val=True, save_json=False, save_hybrid=False, conf=0.001, iou=0.7, max_det=300, half=False, dnn=False, plots=False, source=ultralytics/assets/, show=False, save_txt=False, save_conf=False, save_crop=False, hide_labels=False, hide_conf=False, vid_stride=1, line_thickness=3, visualize=False, augment=False, agnostic_nms=False, classes=None, retina_masks=False, boxes=True, format=torchscript, keras=False, optimize=False, int8=False, dynamic=False, simplify=False, opset=17, workspace=4, nms=False, lr0=0.01, lrf=0.01, momentum=0.937, weight_decay=0.001, warmup_epochs=3.0, warmup_momentum=0.8, warmup_bias_lr=0.1, box=7.5, cls=0.5, dfl=1.5, fl_gamma=0.0, label_smoothing=0.0, nbs=64, hsv_h=0.015, hsv_s=0.7, hsv_v=0.4, degrees=0.0, translate=0.1, scale=0.6, shear=0.0, perspective=0.0, flipud=0.0, fliplr=0.5, mosaic=1.0, mixup=0.0, copy_paste=0.0, cfg=None, v5loader=False, save_dir=/content/runs/train4\n",
            "Downloading https://ultralytics.com/assets/Arial.ttf to /root/.config/Ultralytics/Arial.ttf...\n",
            "100%|██████████| 755k/755k [00:00<00:00, 15.1MB/s]\n",
            "Overriding model.yaml nc=80 with nc=10\n",
            "\n",
            "                   from  n    params  module                                       arguments                     \n",
            "  0                  -1  1       928  ultralytics.nn.modules.Conv                  [3, 32, 3, 2]                 \n",
            "  1                  -1  1     18560  ultralytics.nn.modules.Conv                  [32, 64, 3, 2]                \n",
            "  2                  -1  1     29056  ultralytics.nn.modules.C2f                   [64, 64, 1, True]             \n",
            "  3                  -1  1     73984  ultralytics.nn.modules.Conv                  [64, 128, 3, 2]               \n",
            "  4                  -1  2    197632  ultralytics.nn.modules.C2f                   [128, 128, 2, True]           \n",
            "  5                  -1  1    295424  ultralytics.nn.modules.Conv                  [128, 256, 3, 2]              \n",
            "  6                  -1  2    788480  ultralytics.nn.modules.C2f                   [256, 256, 2, True]           \n",
            "  7                  -1  1   1180672  ultralytics.nn.modules.Conv                  [256, 512, 3, 2]              \n",
            "  8                  -1  1   1838080  ultralytics.nn.modules.C2f                   [512, 512, 1, True]           \n",
            "  9                  -1  1    656896  ultralytics.nn.modules.SPPF                  [512, 512, 5]                 \n",
            " 10                  -1  1         0  torch.nn.modules.upsampling.Upsample         [None, 2, 'nearest']          \n",
            " 11             [-1, 6]  1         0  ultralytics.nn.modules.Concat                [1]                           \n",
            " 12                  -1  1    591360  ultralytics.nn.modules.C2f                   [768, 256, 1]                 \n",
            " 13                  -1  1         0  torch.nn.modules.upsampling.Upsample         [None, 2, 'nearest']          \n",
            " 14             [-1, 4]  1         0  ultralytics.nn.modules.Concat                [1]                           \n",
            " 15                  -1  1    148224  ultralytics.nn.modules.C2f                   [384, 128, 1]                 \n",
            " 16                  -1  1    147712  ultralytics.nn.modules.Conv                  [128, 128, 3, 2]              \n",
            " 17            [-1, 12]  1         0  ultralytics.nn.modules.Concat                [1]                           \n",
            " 18                  -1  1    493056  ultralytics.nn.modules.C2f                   [384, 256, 1]                 \n",
            " 19                  -1  1    590336  ultralytics.nn.modules.Conv                  [256, 256, 3, 2]              \n",
            " 20             [-1, 9]  1         0  ultralytics.nn.modules.Concat                [1]                           \n",
            " 21                  -1  1   1969152  ultralytics.nn.modules.C2f                   [768, 512, 1]                 \n",
            " 22        [15, 18, 21]  1   2774414  ultralytics.nn.modules.Segment               [10, 32, 128, [128, 256, 512]]\n",
            "YOLOv8s-seg summary: 261 layers, 11793966 parameters, 11793950 gradients, 42.7 GFLOPs\n",
            "\n",
            "Transferred 411/417 items from pretrained weights\n",
            "\u001b[34m\u001b[1moptimizer:\u001b[0m SGD(lr=0.01) with parameter groups 66 weight(decay=0.0), 77 weight(decay=0.001), 76 bias\n",
            "\u001b[34m\u001b[1mtrain: \u001b[0mScanning /content/aug_dataset_1.2/train/labels... 20752 images, 13 backgrounds, 0 corrupt: 100%|██████████| 20752/20752 [00:21<00:00, 982.49it/s]\n",
            "\u001b[34m\u001b[1mtrain: \u001b[0mWARNING ⚠️ /content/aug_dataset_1.2/train/images/80_png.jpg: 1 duplicate labels removed\n",
            "\u001b[34m\u001b[1mtrain: \u001b[0mWARNING ⚠️ /content/aug_dataset_1.2/train/images/DS1_02_1023.jpg: 1 duplicate labels removed\n",
            "\u001b[34m\u001b[1mtrain: \u001b[0mWARNING ⚠️ /content/aug_dataset_1.2/train/images/DS1_02_1148.jpg: 1 duplicate labels removed\n",
            "\u001b[34m\u001b[1mtrain: \u001b[0mWARNING ⚠️ /content/aug_dataset_1.2/train/images/DS1_02_2735.jpg: 1 duplicate labels removed\n",
            "\u001b[34m\u001b[1mtrain: \u001b[0mWARNING ⚠️ /content/aug_dataset_1.2/train/images/DS1_02_2736.jpg: 1 duplicate labels removed\n",
            "\u001b[34m\u001b[1mtrain: \u001b[0mWARNING ⚠️ /content/aug_dataset_1.2/train/images/DS1_13_677.jpg: 1 duplicate labels removed\n",
            "\u001b[34m\u001b[1mtrain: \u001b[0mWARNING ⚠️ /content/aug_dataset_1.2/train/images/DS1_13_764.jpg: 1 duplicate labels removed\n",
            "\u001b[34m\u001b[1mtrain: \u001b[0mWARNING ⚠️ /content/aug_dataset_1.2/train/images/DS1_13_768.jpg: 1 duplicate labels removed\n",
            "\u001b[34m\u001b[1mtrain: \u001b[0mWARNING ⚠️ /content/aug_dataset_1.2/train/images/DS1_6-7_2270.jpg: 1 duplicate labels removed\n",
            "\u001b[34m\u001b[1mtrain: \u001b[0mWARNING ⚠️ /content/aug_dataset_1.2/train/images/DS1_YM2_406.jpg: 1 duplicate labels removed\n",
            "\u001b[34m\u001b[1mtrain: \u001b[0mWARNING ⚠️ /content/aug_dataset_1.2/train/images/NG3_10.jpg: 1 duplicate labels removed\n",
            "\u001b[34m\u001b[1mtrain: \u001b[0mWARNING ⚠️ /content/aug_dataset_1.2/train/images/NG3_28.jpg: 1 duplicate labels removed\n",
            "\u001b[34m\u001b[1mtrain: \u001b[0mWARNING ⚠️ /content/aug_dataset_1.2/train/images/aug_0_80_png.jpg: 1 duplicate labels removed\n",
            "\u001b[34m\u001b[1mtrain: \u001b[0mWARNING ⚠️ /content/aug_dataset_1.2/train/images/aug_0_DS1_02_1023.jpg: 1 duplicate labels removed\n",
            "\u001b[34m\u001b[1mtrain: \u001b[0mWARNING ⚠️ /content/aug_dataset_1.2/train/images/aug_0_DS1_02_1148.jpg: 1 duplicate labels removed\n",
            "\u001b[34m\u001b[1mtrain: \u001b[0mWARNING ⚠️ /content/aug_dataset_1.2/train/images/aug_0_DS1_02_2736.jpg: 1 duplicate labels removed\n",
            "\u001b[34m\u001b[1mtrain: \u001b[0mWARNING ⚠️ /content/aug_dataset_1.2/train/images/aug_0_DS1_13_677.jpg: 1 duplicate labels removed\n",
            "\u001b[34m\u001b[1mtrain: \u001b[0mWARNING ⚠️ /content/aug_dataset_1.2/train/images/aug_0_DS1_13_764.jpg: 1 duplicate labels removed\n",
            "\u001b[34m\u001b[1mtrain: \u001b[0mWARNING ⚠️ /content/aug_dataset_1.2/train/images/aug_0_DS1_13_768.jpg: 1 duplicate labels removed\n",
            "\u001b[34m\u001b[1mtrain: \u001b[0mWARNING ⚠️ /content/aug_dataset_1.2/train/images/aug_0_DS1_6-7_2270.jpg: 1 duplicate labels removed\n",
            "\u001b[34m\u001b[1mtrain: \u001b[0mWARNING ⚠️ /content/aug_dataset_1.2/train/images/aug_0_NG3_10.jpg: 1 duplicate labels removed\n",
            "\u001b[34m\u001b[1mtrain: \u001b[0mWARNING ⚠️ /content/aug_dataset_1.2/train/images/aug_0_NG3_28.jpg: 1 duplicate labels removed\n",
            "\u001b[34m\u001b[1mtrain: \u001b[0mNew cache created: /content/aug_dataset_1.2/train/labels.cache\n",
            "\u001b[34m\u001b[1malbumentations: \u001b[0mBlur(p=0.01, blur_limit=(3, 7)), MedianBlur(p=0.01, blur_limit=(3, 7)), ToGray(p=0.01), CLAHE(p=0.01, clip_limit=(1, 4.0), tile_grid_size=(8, 8))\n",
            "\u001b[34m\u001b[1mval: \u001b[0mScanning /content/aug_dataset_1.2/valid/labels... 3422 images, 12 backgrounds, 0 corrupt: 100%|██████████| 3422/3422 [00:03<00:00, 971.07it/s]\n",
            "\u001b[34m\u001b[1mval: \u001b[0mWARNING ⚠️ /content/aug_dataset_1.2/valid/images/DS1_02_2732.jpg: 1 duplicate labels removed\n",
            "\u001b[34m\u001b[1mval: \u001b[0mWARNING ⚠️ /content/aug_dataset_1.2/valid/images/DS1_02_2919.jpg: 1 duplicate labels removed\n",
            "\u001b[34m\u001b[1mval: \u001b[0mWARNING ⚠️ /content/aug_dataset_1.2/valid/images/DS1_YM2_170.jpg: 1 duplicate labels removed\n",
            "\u001b[34m\u001b[1mval: \u001b[0mNew cache created: /content/aug_dataset_1.2/valid/labels.cache\n",
            "Image sizes 640 train, 640 val\n",
            "Using 8 dataloader workers\n",
            "Logging results to \u001b[1m/content/runs/train4\u001b[0m\n",
            "Starting training for 20 epochs...\n",
            "\n",
            "      Epoch    GPU_mem   box_loss   seg_loss   cls_loss   dfl_loss  Instances       Size\n",
            "       1/20      8.54G      1.016      2.524      1.734      1.381         97        640: 100%|██████████| 1297/1297 [05:23<00:00,  4.01it/s]\n",
            "                 Class     Images  Instances      Box(P          R      mAP50  mAP50-95)     Mask(P          R      mAP50  mAP50-95): 100%|██████████| 107/107 [00:52<00:00,  2.04it/s]\n",
            "                   all       3422      10440      0.659      0.465       0.48      0.335      0.638      0.437      0.452      0.292\n",
            "   Agricultural object       3422        419      0.703      0.842       0.81      0.679      0.715       0.84      0.813      0.642\n",
            "                Fields       3422       1536       0.82       0.68       0.74      0.593      0.826      0.656      0.735      0.595\n",
            "                Forest       3422       1687      0.681      0.591      0.623      0.421      0.686      0.566      0.599      0.371\n",
            "             Grassland       3422       2814      0.564      0.709      0.671       0.47      0.576      0.688      0.654      0.435\n",
            "   Industrial facility       3422         85          1          0     0.0433      0.022          1          0     0.0456     0.0198\n",
            "           Power lines       3422        513      0.457      0.287      0.269      0.124      0.392      0.224      0.196     0.0569\n",
            "       Public facility       3422        245      0.757     0.0256      0.132     0.0748       0.63     0.0163      0.119      0.054\n",
            "  Residential facility       3422       1071      0.554      0.407      0.448      0.284      0.576      0.391       0.45      0.255\n",
            "                  Road       3422       1639      0.554      0.605      0.579      0.391      0.504      0.519      0.483      0.272\n",
            "                 Water       3422        431      0.496      0.506      0.485      0.286      0.475      0.466      0.421      0.217\n",
            "\n",
            "      Epoch    GPU_mem   box_loss   seg_loss   cls_loss   dfl_loss  Instances       Size\n",
            "       2/20      8.63G     0.9174        2.1      1.171      1.297        150        640: 100%|██████████| 1297/1297 [05:09<00:00,  4.19it/s]\n",
            "                 Class     Images  Instances      Box(P          R      mAP50  mAP50-95)     Mask(P          R      mAP50  mAP50-95): 100%|██████████| 107/107 [00:51<00:00,  2.06it/s]\n",
            "                   all       3422      10440      0.601      0.501      0.535      0.384       0.58      0.477      0.501      0.333\n",
            "   Agricultural object       3422        419      0.702      0.831      0.843      0.701      0.709      0.833      0.843      0.714\n",
            "                Fields       3422       1536      0.863      0.779      0.832      0.714      0.866      0.772      0.826      0.706\n",
            "                Forest       3422       1687       0.74      0.561      0.635       0.45      0.734      0.539      0.611      0.369\n",
            "             Grassland       3422       2814      0.681      0.704      0.731       0.55      0.686      0.692      0.711      0.516\n",
            "   Industrial facility       3422         85      0.214     0.0588     0.0736     0.0397       0.18     0.0471     0.0499      0.023\n",
            "           Power lines       3422        513      0.413      0.498      0.407      0.223      0.386       0.45      0.349      0.124\n",
            "       Public facility       3422        245      0.397     0.0531      0.117     0.0551       0.35     0.0449     0.0962     0.0318\n",
            "  Residential facility       3422       1071      0.628      0.397      0.504       0.32      0.636       0.39        0.5      0.288\n",
            "                  Road       3422       1639      0.665      0.574      0.628      0.418      0.597      0.502      0.512      0.278\n",
            "                 Water       3422        431      0.703      0.555      0.581      0.364      0.659      0.501       0.51      0.279\n",
            "\n",
            "      Epoch    GPU_mem   box_loss   seg_loss   cls_loss   dfl_loss  Instances       Size\n",
            "       3/20      9.98G     0.9562       2.14       1.19      1.315        108        640: 100%|██████████| 1297/1297 [05:05<00:00,  4.25it/s]\n",
            "                 Class     Images  Instances      Box(P          R      mAP50  mAP50-95)     Mask(P          R      mAP50  mAP50-95): 100%|██████████| 107/107 [00:52<00:00,  2.04it/s]\n",
            "                   all       3422      10440      0.502      0.471      0.469      0.308      0.492       0.45      0.443      0.275\n",
            "   Agricultural object       3422        419      0.732      0.854      0.843      0.684      0.737      0.854       0.84      0.686\n",
            "                Fields       3422       1536      0.883      0.674       0.76      0.557      0.874      0.661      0.746      0.556\n",
            "                Forest       3422       1687       0.63      0.599      0.589      0.356      0.631      0.583      0.572      0.322\n",
            "             Grassland       3422       2814      0.527      0.686      0.644      0.441      0.525      0.672      0.629      0.403\n",
            "   Industrial facility       3422         85          0          0      0.039     0.0175          0          0      0.029     0.0137\n",
            "           Power lines       3422        513      0.434      0.513      0.431      0.211      0.385      0.446      0.348     0.0993\n",
            "       Public facility       3422        245      0.299      0.118      0.119     0.0609      0.304      0.118      0.113     0.0385\n",
            "  Residential facility       3422       1071      0.505      0.182      0.282      0.158      0.516      0.176      0.287      0.147\n",
            "                  Road       3422       1639      0.568       0.55      0.545      0.352      0.512      0.484      0.452      0.267\n",
            "                 Water       3422        431      0.441      0.529      0.435      0.241      0.433      0.508      0.409      0.216\n",
            "\n",
            "      Epoch    GPU_mem   box_loss   seg_loss   cls_loss   dfl_loss  Instances       Size\n",
            "       4/20      11.4G     0.9605      2.136      1.177      1.318         88        640: 100%|██████████| 1297/1297 [05:05<00:00,  4.24it/s]\n",
            "                 Class     Images  Instances      Box(P          R      mAP50  mAP50-95)     Mask(P          R      mAP50  mAP50-95): 100%|██████████| 107/107 [00:52<00:00,  2.03it/s]\n",
            "                   all       3422      10440      0.532      0.481      0.468      0.316      0.518      0.459       0.44      0.274\n",
            "   Agricultural object       3422        419      0.724      0.833       0.81      0.658       0.73      0.831      0.808       0.67\n",
            "                Fields       3422       1536      0.507      0.641      0.472      0.349      0.502       0.61      0.462      0.337\n",
            "                Forest       3422       1687      0.696      0.621      0.648      0.443       0.69      0.601      0.621      0.384\n",
            "             Grassland       3422       2814      0.702      0.662      0.691      0.502      0.699      0.645      0.672      0.457\n",
            "   Industrial facility       3422         85      0.205     0.0588     0.0598     0.0295      0.175     0.0425     0.0466     0.0208\n",
            "           Power lines       3422        513      0.572      0.446      0.451      0.239       0.56      0.419       0.43      0.137\n",
            "       Public facility       3422        245      0.182       0.18      0.136     0.0616      0.191       0.18      0.115     0.0582\n",
            "  Residential facility       3422       1071      0.487      0.526      0.487      0.299      0.504      0.523      0.485       0.28\n",
            "                  Road       3422       1639      0.566       0.32      0.362      0.226      0.455      0.246      0.248      0.132\n",
            "                 Water       3422        431      0.682      0.522      0.567      0.347       0.67      0.494      0.515      0.268\n",
            "\n",
            "      Epoch    GPU_mem   box_loss   seg_loss   cls_loss   dfl_loss  Instances       Size\n",
            "       5/20      12.8G     0.9248      2.007      1.093      1.289        126        640: 100%|██████████| 1297/1297 [05:09<00:00,  4.20it/s]\n",
            "                 Class     Images  Instances      Box(P          R      mAP50  mAP50-95)     Mask(P          R      mAP50  mAP50-95): 100%|██████████| 107/107 [00:52<00:00,  2.03it/s]\n",
            "                   all       3422      10440      0.646      0.522      0.555      0.382      0.641      0.506       0.53      0.345\n",
            "   Agricultural object       3422        419      0.787      0.876      0.858      0.704      0.797      0.878      0.861      0.734\n",
            "                Fields       3422       1536      0.854      0.656      0.788      0.633      0.839      0.636      0.773      0.623\n",
            "                Forest       3422       1687       0.67      0.536      0.606      0.404      0.675      0.516      0.592       0.36\n",
            "             Grassland       3422       2814      0.732      0.674      0.728      0.538      0.744      0.667      0.721        0.5\n",
            "   Industrial facility       3422         85      0.629     0.0209     0.0821     0.0431      0.606     0.0192      0.071     0.0284\n",
            "           Power lines       3422        513      0.554      0.522        0.5      0.257      0.541      0.497      0.448      0.144\n",
            "       Public facility       3422        245        0.4       0.22      0.235      0.117      0.366      0.196      0.198     0.0816\n",
            "  Residential facility       3422       1071      0.546      0.483      0.482      0.313      0.566      0.475       0.49      0.295\n",
            "                  Road       3422       1639      0.625      0.631      0.654       0.44      0.597      0.584      0.565      0.357\n",
            "                 Water       3422        431      0.663      0.596      0.619      0.366       0.68      0.589      0.579      0.327\n",
            "\n",
            "      Epoch    GPU_mem   box_loss   seg_loss   cls_loss   dfl_loss  Instances       Size\n",
            "       6/20      12.8G     0.8952       1.91      1.025      1.268        114        640: 100%|██████████| 1297/1297 [05:11<00:00,  4.16it/s]\n",
            "                 Class     Images  Instances      Box(P          R      mAP50  mAP50-95)     Mask(P          R      mAP50  mAP50-95): 100%|██████████| 107/107 [00:52<00:00,  2.03it/s]\n",
            "                   all       3422      10440      0.607      0.557      0.598      0.422      0.707      0.535      0.573      0.379\n",
            "   Agricultural object       3422        419      0.773      0.876      0.868      0.735      0.785      0.881      0.874      0.751\n",
            "                Fields       3422       1536      0.879      0.679      0.818      0.681      0.882      0.643      0.817      0.681\n",
            "                Forest       3422       1687      0.767      0.606      0.694      0.472      0.768      0.582      0.672      0.433\n",
            "             Grassland       3422       2814      0.712      0.726      0.748      0.573      0.718       0.71      0.736      0.544\n",
            "   Industrial facility       3422         85          0          0     0.0842     0.0443          1          0      0.074     0.0344\n",
            "           Power lines       3422        513      0.712      0.573      0.601      0.303      0.654      0.502      0.502      0.158\n",
            "       Public facility       3422        245      0.407      0.261      0.273      0.169      0.429      0.253      0.271      0.128\n",
            "  Residential facility       3422       1071      0.582      0.522      0.554      0.342      0.608      0.514      0.556      0.318\n",
            "                  Road       3422       1639      0.653      0.651      0.676      0.486      0.639      0.608      0.602      0.387\n",
            "                 Water       3422        431      0.582       0.68      0.663      0.414      0.584      0.655      0.626      0.356\n",
            "\n",
            "      Epoch    GPU_mem   box_loss   seg_loss   cls_loss   dfl_loss  Instances       Size\n",
            "       7/20      12.8G     0.8672      1.822     0.9686      1.246        108        640: 100%|██████████| 1297/1297 [05:16<00:00,  4.10it/s]\n",
            "                 Class     Images  Instances      Box(P          R      mAP50  mAP50-95)     Mask(P          R      mAP50  mAP50-95): 100%|██████████| 107/107 [00:53<00:00,  2.02it/s]\n",
            "                   all       3422      10440      0.741      0.571       0.63      0.463      0.734      0.561       0.61       0.42\n",
            "   Agricultural object       3422        419      0.815      0.881      0.894      0.777      0.814      0.878      0.893      0.783\n",
            "                Fields       3422       1536      0.924      0.812      0.881       0.77      0.922      0.808      0.877      0.765\n",
            "                Forest       3422       1687       0.84      0.663      0.757      0.561      0.831      0.651      0.738      0.503\n",
            "             Grassland       3422       2814      0.835       0.75       0.81      0.651      0.836      0.746      0.803      0.607\n",
            "   Industrial facility       3422         85      0.658     0.0588      0.112     0.0627      0.666     0.0588        0.1     0.0477\n",
            "           Power lines       3422        513      0.748       0.56      0.614      0.319      0.726      0.537      0.577      0.213\n",
            "       Public facility       3422        245      0.388       0.29      0.296      0.163      0.391       0.29      0.282      0.136\n",
            "  Residential facility       3422       1071      0.669      0.413      0.543      0.355      0.671      0.409      0.541      0.322\n",
            "                  Road       3422       1639      0.807      0.646      0.726      0.528      0.763      0.607       0.65      0.432\n",
            "                 Water       3422        431      0.723      0.637      0.669       0.44      0.719      0.629      0.645       0.39\n",
            "\n",
            "      Epoch    GPU_mem   box_loss   seg_loss   cls_loss   dfl_loss  Instances       Size\n",
            "       8/20      12.8G     0.8425      1.771     0.9206      1.229        104        640: 100%|██████████| 1297/1297 [05:07<00:00,  4.22it/s]\n",
            "                 Class     Images  Instances      Box(P          R      mAP50  mAP50-95)     Mask(P          R      mAP50  mAP50-95): 100%|██████████| 107/107 [00:52<00:00,  2.03it/s]\n",
            "                   all       3422      10440      0.769      0.602      0.649      0.483      0.782      0.574      0.623      0.431\n",
            "   Agricultural object       3422        419      0.856      0.869        0.9      0.793      0.863      0.862      0.892      0.772\n",
            "                Fields       3422       1536      0.863       0.84       0.89      0.784      0.889       0.83      0.889      0.777\n",
            "                Forest       3422       1687      0.838      0.689      0.782      0.593      0.853      0.662      0.757      0.531\n",
            "             Grassland       3422       2814      0.791      0.759      0.807      0.655      0.817      0.744      0.798      0.612\n",
            "   Industrial facility       3422         85          1     0.0384      0.156     0.0868          1          0      0.114     0.0661\n",
            "           Power lines       3422        513      0.758       0.62      0.662      0.379      0.752      0.577      0.613       0.22\n",
            "       Public facility       3422        245      0.527      0.302       0.32      0.205      0.548      0.278       0.32      0.178\n",
            "  Residential facility       3422       1071      0.552      0.595      0.585      0.384      0.593      0.565       0.59      0.353\n",
            "                  Road       3422       1639      0.782       0.62      0.701      0.519      0.776      0.572      0.619       0.42\n",
            "                 Water       3422        431      0.723      0.687      0.683      0.435      0.725      0.649      0.642       0.38\n",
            "\n",
            "      Epoch    GPU_mem   box_loss   seg_loss   cls_loss   dfl_loss  Instances       Size\n",
            "       9/20      12.8G     0.8305      1.735     0.8926      1.219         99        640: 100%|██████████| 1297/1297 [05:12<00:00,  4.14it/s]\n",
            "                 Class     Images  Instances      Box(P          R      mAP50  mAP50-95)     Mask(P          R      mAP50  mAP50-95): 100%|██████████| 107/107 [00:52<00:00,  2.04it/s]\n",
            "                   all       3422      10440      0.743      0.596      0.654      0.485      0.712      0.581      0.628      0.431\n",
            "   Agricultural object       3422        419      0.862      0.888      0.894      0.799      0.863      0.888      0.891      0.799\n",
            "                Fields       3422       1536      0.876      0.789      0.866      0.733      0.878      0.777      0.861      0.723\n",
            "                Forest       3422       1687      0.768      0.669      0.751      0.572      0.771      0.658      0.735      0.507\n",
            "             Grassland       3422       2814      0.792      0.767      0.812      0.652      0.799      0.764      0.801      0.609\n",
            "   Industrial facility       3422         85      0.688     0.0235      0.158     0.0854      0.375     0.0118      0.114     0.0587\n",
            "           Power lines       3422        513      0.749      0.644      0.673      0.371      0.728       0.61      0.633      0.223\n",
            "       Public facility       3422        245      0.609      0.249      0.346      0.232      0.645      0.245      0.327      0.192\n",
            "  Residential facility       3422       1071      0.592      0.541       0.58      0.384      0.606      0.537      0.584      0.342\n",
            "                  Road       3422       1639       0.79      0.672      0.739      0.541      0.756      0.634      0.655       0.43\n",
            "                 Water       3422        431      0.709      0.722      0.724      0.479      0.696      0.689      0.682      0.423\n",
            "\n",
            "      Epoch    GPU_mem   box_loss   seg_loss   cls_loss   dfl_loss  Instances       Size\n",
            "      10/20      12.8G     0.8138       1.69     0.8632      1.206        136        640: 100%|██████████| 1297/1297 [05:06<00:00,  4.23it/s]\n",
            "                 Class     Images  Instances      Box(P          R      mAP50  mAP50-95)     Mask(P          R      mAP50  mAP50-95): 100%|██████████| 107/107 [00:53<00:00,  2.01it/s]\n",
            "                   all       3422      10440      0.835      0.597       0.67      0.507      0.831      0.584      0.647      0.451\n",
            "   Agricultural object       3422        419      0.865      0.888      0.907      0.812      0.869      0.888      0.907      0.813\n",
            "                Fields       3422       1536      0.917      0.823      0.892      0.782      0.914      0.812      0.884      0.764\n",
            "                Forest       3422       1687      0.882      0.675      0.783      0.608      0.881      0.665      0.768      0.544\n",
            "             Grassland       3422       2814      0.846       0.76      0.823      0.681      0.851      0.755      0.813      0.629\n",
            "   Industrial facility       3422         85          1          0      0.138     0.0936          1          0      0.126     0.0689\n",
            "           Power lines       3422        513      0.762      0.647      0.673      0.375      0.717      0.598      0.601      0.226\n",
            "       Public facility       3422        245      0.706      0.265      0.371      0.242      0.724      0.267      0.357      0.208\n",
            "  Residential facility       3422       1071       0.63      0.552      0.608      0.403      0.644       0.55      0.616       0.37\n",
            "                  Road       3422       1639      0.872      0.656      0.754      0.567      0.842      0.621      0.675      0.452\n",
            "                 Water       3422        431      0.876      0.702      0.751      0.506      0.869      0.684      0.718      0.436\n",
            "Closing dataloader mosaic\n",
            "\u001b[34m\u001b[1malbumentations: \u001b[0mBlur(p=0.01, blur_limit=(3, 7)), MedianBlur(p=0.01, blur_limit=(3, 7)), ToGray(p=0.01), CLAHE(p=0.01, clip_limit=(1, 4.0), tile_grid_size=(8, 8))\n",
            "\n",
            "      Epoch    GPU_mem   box_loss   seg_loss   cls_loss   dfl_loss  Instances       Size\n",
            "      11/20      12.8G     0.9632      1.733      1.101      1.373         87        640: 100%|██████████| 1297/1297 [03:49<00:00,  5.65it/s]\n",
            "                 Class     Images  Instances      Box(P          R      mAP50  mAP50-95)     Mask(P          R      mAP50  mAP50-95): 100%|██████████| 107/107 [00:52<00:00,  2.03it/s]\n",
            "                   all       3422      10440       0.74      0.602       0.65      0.501      0.749      0.589      0.631      0.452\n",
            "   Agricultural object       3422        419      0.852      0.881      0.898      0.799      0.854      0.876      0.888      0.809\n",
            "                Fields       3422       1536      0.886      0.863      0.903      0.826      0.892      0.861      0.899       0.81\n",
            "                Forest       3422       1687      0.818      0.715      0.781      0.631      0.822      0.705      0.768      0.574\n",
            "             Grassland       3422       2814      0.782      0.778      0.822      0.681       0.79      0.771      0.811       0.64\n",
            "   Industrial facility       3422         85      0.767     0.0353      0.135     0.0963      0.859     0.0353      0.129     0.0717\n",
            "           Power lines       3422        513      0.764      0.628      0.668      0.389      0.761      0.609      0.638      0.247\n",
            "       Public facility       3422        245      0.445      0.314      0.337      0.213      0.462       0.31      0.329      0.188\n",
            "  Residential facility       3422       1071      0.602      0.497      0.548      0.353       0.62      0.486      0.551      0.323\n",
            "                  Road       3422       1639       0.77      0.679      0.738      0.559      0.731      0.628      0.651      0.443\n",
            "                 Water       3422        431      0.717      0.634      0.674       0.46      0.702       0.61      0.642      0.415\n",
            "\n",
            "      Epoch    GPU_mem   box_loss   seg_loss   cls_loss   dfl_loss  Instances       Size\n",
            "      12/20      12.8G     0.9285      1.647      1.043      1.341         45        640: 100%|██████████| 1297/1297 [03:48<00:00,  5.68it/s]\n",
            "                 Class     Images  Instances      Box(P          R      mAP50  mAP50-95)     Mask(P          R      mAP50  mAP50-95): 100%|██████████| 107/107 [00:52<00:00,  2.03it/s]\n",
            "                   all       3422      10440      0.745      0.608      0.671      0.516      0.736      0.594      0.646      0.458\n",
            "   Agricultural object       3422        419      0.869       0.89      0.907      0.822       0.87       0.89      0.906      0.821\n",
            "                Fields       3422       1536      0.907      0.868      0.909      0.831      0.905      0.864      0.903      0.804\n",
            "                Forest       3422       1687      0.892        0.7      0.801      0.649      0.883      0.688      0.786      0.585\n",
            "             Grassland       3422       2814      0.832      0.777      0.833      0.696      0.832      0.771      0.823       0.65\n",
            "   Industrial facility       3422         85      0.352      0.077      0.142     0.0953      0.344     0.0742       0.12     0.0776\n",
            "           Power lines       3422        513      0.773       0.63      0.693      0.386      0.747      0.598      0.631      0.221\n",
            "       Public facility       3422        245      0.547      0.282       0.34      0.222      0.563      0.282      0.326      0.174\n",
            "  Residential facility       3422       1071      0.685      0.455      0.576      0.369      0.703      0.457      0.582      0.337\n",
            "                  Road       3422       1639      0.847      0.669       0.76      0.589      0.794      0.624       0.67      0.463\n",
            "                 Water       3422        431      0.746      0.733      0.749      0.501       0.72      0.691      0.716      0.451\n",
            "\n",
            "      Epoch    GPU_mem   box_loss   seg_loss   cls_loss   dfl_loss  Instances       Size\n",
            "      13/20      12.8G     0.9085      1.597     0.9977      1.331         34        640: 100%|██████████| 1297/1297 [03:49<00:00,  5.66it/s]\n",
            "                 Class     Images  Instances      Box(P          R      mAP50  mAP50-95)     Mask(P          R      mAP50  mAP50-95): 100%|██████████| 107/107 [00:52<00:00,  2.03it/s]\n",
            "                   all       3422      10440      0.793      0.617      0.687      0.539      0.791      0.604      0.665      0.483\n",
            "   Agricultural object       3422        419      0.899      0.867      0.921      0.829      0.901      0.866      0.912      0.835\n",
            "                Fields       3422       1536      0.916      0.874      0.914       0.84      0.918      0.873       0.91      0.827\n",
            "                Forest       3422       1687      0.851      0.736      0.802      0.652       0.85      0.726      0.784      0.587\n",
            "             Grassland       3422       2814      0.848      0.768      0.836      0.708      0.852      0.762      0.826      0.659\n",
            "   Industrial facility       3422         85      0.459     0.0588      0.156      0.111      0.476     0.0588      0.146     0.0876\n",
            "           Power lines       3422        513      0.848      0.694      0.748      0.464      0.819      0.662      0.708      0.304\n",
            "       Public facility       3422        245      0.754      0.327      0.406      0.284      0.781      0.321      0.408      0.242\n",
            "  Residential facility       3422       1071       0.66      0.514      0.587      0.391      0.684      0.513      0.598      0.363\n",
            "                  Road       3422       1639      0.856      0.675      0.762      0.594      0.806      0.625      0.661      0.462\n",
            "                 Water       3422        431      0.841      0.661       0.74       0.52      0.821      0.638      0.699       0.46\n",
            "\n",
            "      Epoch    GPU_mem   box_loss   seg_loss   cls_loss   dfl_loss  Instances       Size\n",
            "      14/20      12.8G     0.8862      1.557     0.9569      1.308         60        640: 100%|██████████| 1297/1297 [03:48<00:00,  5.67it/s]\n",
            "                 Class     Images  Instances      Box(P          R      mAP50  mAP50-95)     Mask(P          R      mAP50  mAP50-95): 100%|██████████| 107/107 [00:52<00:00,  2.02it/s]\n",
            "                   all       3422      10440      0.777       0.63      0.697      0.547      0.762      0.616       0.67      0.483\n",
            "   Agricultural object       3422        419      0.882      0.891      0.922      0.837      0.884       0.89      0.915      0.829\n",
            "                Fields       3422       1536      0.892       0.88      0.914      0.843      0.895      0.876      0.909       0.83\n",
            "                Forest       3422       1687      0.861      0.719      0.806      0.663      0.861       0.71      0.786      0.599\n",
            "             Grassland       3422       2814      0.855      0.782      0.845      0.723      0.856      0.778      0.838      0.678\n",
            "   Industrial facility       3422         85       0.36     0.0706      0.156     0.0965      0.314     0.0588      0.127     0.0744\n",
            "           Power lines       3422        513      0.855      0.667      0.729      0.431      0.834      0.645      0.684      0.264\n",
            "       Public facility       3422        245      0.757      0.367      0.451      0.318      0.736      0.351      0.437      0.255\n",
            "  Residential facility       3422       1071      0.664      0.509      0.601      0.398      0.676      0.504      0.606      0.358\n",
            "                  Road       3422       1639      0.849        0.7      0.776      0.611      0.791      0.649      0.672      0.468\n",
            "                 Water       3422        431      0.791      0.717      0.768      0.544      0.776      0.696      0.728      0.476\n",
            "\n",
            "      Epoch    GPU_mem   box_loss   seg_loss   cls_loss   dfl_loss  Instances       Size\n",
            "      15/20      12.8G     0.8628      1.509     0.9275      1.292         44        640: 100%|██████████| 1297/1297 [03:49<00:00,  5.65it/s]\n",
            "                 Class     Images  Instances      Box(P          R      mAP50  mAP50-95)     Mask(P          R      mAP50  mAP50-95): 100%|██████████| 107/107 [00:52<00:00,  2.04it/s]\n",
            "                   all       3422      10440       0.78      0.635      0.702      0.556       0.76      0.622      0.675       0.49\n",
            "   Agricultural object       3422        419       0.87      0.888      0.918      0.834      0.867      0.885      0.913      0.838\n",
            "                Fields       3422       1536      0.914      0.882      0.923      0.858      0.914      0.882      0.923      0.843\n",
            "                Forest       3422       1687      0.853      0.737      0.813      0.676      0.848      0.734      0.794      0.607\n",
            "             Grassland       3422       2814      0.831      0.798       0.85      0.729      0.827      0.795      0.842      0.687\n",
            "   Industrial facility       3422         85      0.299      0.141      0.166      0.105      0.247      0.118       0.14     0.0836\n",
            "           Power lines       3422        513      0.837      0.655      0.736      0.443      0.814      0.637      0.693      0.273\n",
            "       Public facility       3422        245      0.781      0.347      0.446      0.316      0.753      0.335      0.429      0.253\n",
            "  Residential facility       3422       1071      0.715      0.498      0.611      0.417      0.714      0.498      0.611      0.379\n",
            "                  Road       3422       1639      0.847      0.697      0.781      0.616      0.787      0.647      0.679      0.475\n",
            "                 Water       3422        431      0.849      0.706      0.772      0.562       0.83       0.69      0.725      0.461\n",
            "\n",
            "      Epoch    GPU_mem   box_loss   seg_loss   cls_loss   dfl_loss  Instances       Size\n",
            "      16/20      12.8G     0.8402      1.461     0.8878      1.269         45        640: 100%|██████████| 1297/1297 [03:48<00:00,  5.68it/s]\n",
            "                 Class     Images  Instances      Box(P          R      mAP50  mAP50-95)     Mask(P          R      mAP50  mAP50-95): 100%|██████████| 107/107 [00:53<00:00,  2.00it/s]\n",
            "                   all       3422      10440      0.809      0.643      0.716      0.569      0.805      0.623      0.689      0.503\n",
            "   Agricultural object       3422        419      0.882       0.89      0.926      0.846      0.889      0.888      0.926      0.845\n",
            "                Fields       3422       1536      0.913      0.887      0.927      0.865      0.919      0.882      0.924       0.85\n",
            "                Forest       3422       1687      0.872      0.742      0.824      0.687      0.881      0.734      0.808      0.624\n",
            "             Grassland       3422       2814      0.867      0.794      0.857      0.739      0.868      0.783      0.842       0.69\n",
            "   Industrial facility       3422         85      0.552     0.0941      0.187      0.122      0.511     0.0824      0.163      0.106\n",
            "           Power lines       3422        513      0.855      0.704      0.748      0.457      0.842      0.665      0.711      0.291\n",
            "       Public facility       3422        245      0.741      0.384      0.475      0.335      0.767      0.371      0.458      0.281\n",
            "  Residential facility       3422       1071      0.726      0.486      0.645      0.436      0.753      0.474      0.655      0.398\n",
            "                  Road       3422       1639      0.864      0.706      0.785      0.633      0.817       0.65       0.68      0.482\n",
            "                 Water       3422        431      0.821      0.745      0.788      0.569      0.804      0.701      0.721      0.464\n",
            "\n",
            "      Epoch    GPU_mem   box_loss   seg_loss   cls_loss   dfl_loss  Instances       Size\n",
            "      17/20      12.8G      0.815      1.421      0.845      1.254         36        640: 100%|██████████| 1297/1297 [03:49<00:00,  5.66it/s]\n",
            "                 Class     Images  Instances      Box(P          R      mAP50  mAP50-95)     Mask(P          R      mAP50  mAP50-95): 100%|██████████| 107/107 [00:52<00:00,  2.04it/s]\n",
            "                   all       3422      10440      0.776      0.651      0.716      0.573      0.809       0.62      0.689      0.505\n",
            "   Agricultural object       3422        419      0.879        0.9      0.931      0.859      0.897       0.89      0.927      0.849\n",
            "                Fields       3422       1536      0.924      0.891      0.927      0.868      0.947      0.882      0.922      0.845\n",
            "                Forest       3422       1687      0.871      0.757      0.827       0.69      0.888      0.725      0.807      0.622\n",
            "             Grassland       3422       2814      0.859        0.8      0.859      0.747       0.89      0.772      0.844      0.694\n",
            "   Industrial facility       3422         85      0.303     0.0941      0.168      0.116      0.438     0.0824      0.158     0.0964\n",
            "           Power lines       3422        513      0.848      0.721      0.769      0.465      0.861      0.692      0.735      0.305\n",
            "       Public facility       3422        245      0.681      0.355      0.457       0.33      0.735      0.343      0.447      0.277\n",
            "  Residential facility       3422       1071       0.69      0.545      0.643      0.437      0.744      0.479      0.641       0.39\n",
            "                  Road       3422       1639      0.855      0.713      0.793      0.641      0.829      0.646       0.69      0.488\n",
            "                 Water       3422        431      0.851       0.73      0.791      0.581      0.859      0.689      0.722       0.48\n",
            "\n",
            "      Epoch    GPU_mem   box_loss   seg_loss   cls_loss   dfl_loss  Instances       Size\n",
            "      18/20      12.8G     0.7922       1.39     0.8241      1.232         32        640: 100%|██████████| 1297/1297 [03:49<00:00,  5.65it/s]\n",
            "                 Class     Images  Instances      Box(P          R      mAP50  mAP50-95)     Mask(P          R      mAP50  mAP50-95): 100%|██████████| 107/107 [00:52<00:00,  2.02it/s]\n",
            "                   all       3422      10440        0.8       0.66       0.72      0.579      0.786       0.65      0.695       0.51\n",
            "   Agricultural object       3422        419      0.862      0.913      0.931      0.859       0.86       0.91      0.922      0.851\n",
            "                Fields       3422       1536      0.944       0.89      0.932      0.874      0.938      0.887      0.929      0.856\n",
            "                Forest       3422       1687      0.885       0.74      0.828      0.696      0.877      0.734      0.811      0.632\n",
            "             Grassland       3422       2814       0.87      0.795      0.859       0.75      0.863       0.79      0.847      0.697\n",
            "   Industrial facility       3422         85      0.472     0.0941      0.186      0.127      0.465     0.0941      0.171      0.104\n",
            "           Power lines       3422        513      0.862      0.733      0.774      0.476      0.835      0.712      0.736      0.308\n",
            "       Public facility       3422        245      0.783      0.371       0.46      0.338      0.781      0.371      0.451      0.273\n",
            "  Residential facility       3422       1071       0.63      0.602      0.644      0.435      0.636      0.611      0.649      0.391\n",
            "                  Road       3422       1639      0.845      0.718      0.792      0.646      0.783      0.667      0.696      0.494\n",
            "                 Water       3422        431      0.849       0.74      0.795      0.587      0.826      0.722      0.735      0.497\n",
            "\n",
            "      Epoch    GPU_mem   box_loss   seg_loss   cls_loss   dfl_loss  Instances       Size\n",
            "      19/20      12.8G     0.7719      1.346     0.7942      1.223         35        640: 100%|██████████| 1297/1297 [03:50<00:00,  5.64it/s]\n",
            "                 Class     Images  Instances      Box(P          R      mAP50  mAP50-95)     Mask(P          R      mAP50  mAP50-95): 100%|██████████| 107/107 [00:52<00:00,  2.02it/s]\n",
            "                   all       3422      10440      0.822      0.656      0.726      0.583      0.814      0.643      0.697      0.512\n",
            "   Agricultural object       3422        419      0.893        0.9      0.931      0.865      0.892      0.895      0.925      0.849\n",
            "                Fields       3422       1536      0.946      0.889      0.934      0.876      0.944      0.886      0.928      0.855\n",
            "                Forest       3422       1687      0.891      0.743      0.834      0.702      0.889      0.736      0.818      0.637\n",
            "             Grassland       3422       2814       0.88      0.797      0.861      0.751      0.875      0.789      0.846      0.701\n",
            "   Industrial facility       3422         85      0.566     0.0941      0.195      0.105      0.577     0.0941      0.182      0.095\n",
            "           Power lines       3422        513      0.878      0.731      0.788      0.491      0.852      0.708      0.742      0.321\n",
            "       Public facility       3422        245      0.772      0.388      0.476      0.345      0.795      0.388      0.466      0.281\n",
            "  Residential facility       3422       1071      0.686       0.56      0.645      0.442      0.694      0.556      0.648      0.392\n",
            "                  Road       3422       1639       0.87      0.721        0.8      0.651      0.812      0.667      0.697      0.496\n",
            "                 Water       3422        431      0.836      0.733      0.793        0.6      0.812      0.708      0.718       0.49\n",
            "\n",
            "      Epoch    GPU_mem   box_loss   seg_loss   cls_loss   dfl_loss  Instances       Size\n",
            "      20/20      12.8G      0.744      1.294     0.7517      1.199         74        640: 100%|██████████| 1297/1297 [03:49<00:00,  5.65it/s]\n",
            "                 Class     Images  Instances      Box(P          R      mAP50  mAP50-95)     Mask(P          R      mAP50  mAP50-95): 100%|██████████| 107/107 [01:04<00:00,  1.66it/s]\n",
            "                   all       3422      10440      0.795      0.672      0.732      0.593      0.795      0.654      0.705      0.523\n",
            "   Agricultural object       3422        419      0.903      0.909      0.937       0.87      0.912      0.911      0.934      0.865\n",
            "                Fields       3422       1536      0.942      0.895      0.935      0.881      0.942      0.891      0.931      0.861\n",
            "                Forest       3422       1687       0.88       0.76      0.841      0.709      0.883      0.747      0.825      0.646\n",
            "             Grassland       3422       2814      0.868      0.803      0.865      0.757      0.869      0.792      0.851      0.706\n",
            "   Industrial facility       3422         85      0.333      0.129      0.188      0.119      0.363      0.118      0.176      0.105\n",
            "           Power lines       3422        513      0.861      0.764        0.8       0.51      0.838      0.728      0.763      0.343\n",
            "       Public facility       3422        245      0.775      0.408      0.484      0.355      0.792      0.396      0.472      0.295\n",
            "  Residential facility       3422       1071      0.673      0.594      0.661      0.455      0.703      0.581      0.659      0.402\n",
            "                  Road       3422       1639      0.854       0.73      0.806      0.662      0.809      0.674      0.705      0.503\n",
            "                 Water       3422        431      0.857      0.729      0.803      0.614      0.843      0.705      0.736      0.504\n",
            "\n",
            "20 epochs completed in 1.812 hours.\n",
            "Optimizer stripped from /content/runs/train4/weights/last.pt, 23.9MB\n",
            "Optimizer stripped from /content/runs/train4/weights/best.pt, 23.9MB\n",
            "\n",
            "Validating /content/runs/train4/weights/best.pt...\n",
            "Ultralytics YOLOv8.0.20 🚀 Python-3.10.12 torch-2.1.0+cu118 CUDA:0 (Tesla V100-SXM2-16GB, 16151MiB)\n",
            "YOLOv8s-seg summary (fused): 195 layers, 11783470 parameters, 0 gradients, 42.5 GFLOPs\n",
            "                 Class     Images  Instances      Box(P          R      mAP50  mAP50-95)     Mask(P          R      mAP50  mAP50-95): 100%|██████████| 107/107 [00:58<00:00,  1.84it/s]\n",
            "                   all       3422      10440      0.792      0.671      0.732      0.593      0.798      0.653      0.705      0.523\n",
            "   Agricultural object       3422        419      0.903      0.909      0.937      0.869      0.912       0.91      0.934      0.865\n",
            "                Fields       3422       1536      0.942      0.895      0.935       0.88      0.943       0.89       0.93      0.861\n",
            "                Forest       3422       1687       0.88       0.76      0.841      0.709      0.885      0.747      0.824      0.646\n",
            "             Grassland       3422       2814      0.868      0.803      0.865      0.757       0.87      0.792      0.851      0.706\n",
            "   Industrial facility       3422         85      0.314      0.119      0.188      0.121      0.366      0.118      0.176      0.105\n",
            "           Power lines       3422        513      0.861      0.762        0.8       0.51      0.842      0.727      0.764      0.343\n",
            "       Public facility       3422        245      0.768      0.408      0.485      0.352      0.803      0.396      0.472      0.295\n",
            "  Residential facility       3422       1071      0.673      0.593      0.661      0.455      0.706      0.575       0.66      0.402\n",
            "                  Road       3422       1639      0.855       0.73      0.806      0.662      0.811      0.672      0.705      0.503\n",
            "                 Water       3422        431      0.858       0.73      0.804      0.614      0.844      0.705      0.736      0.504\n",
            "Speed: 0.2ms pre-process, 1.7ms inference, 0.0ms loss, 1.4ms post-process per image\n",
            "Results saved to \u001b[1m/content/runs/train4\u001b[0m\n"
          ]
        }
      ]
    },
    {
      "cell_type": "code",
      "source": [
        "#Валидация.\n",
        "from ultralytics import YOLO\n",
        "\n",
        "\n",
        "# Validate the model\n",
        "model5.val()  # оцените производительность модели на наборе проверки\n",
        "metrics = model5.val()  # no arguments needed, dataset and settings remembered\n",
        "metrics.box.map    # map50-95(B)\n",
        "metrics.box.map50  # map50(B)\n",
        "metrics.box.map75  # map75(B)\n",
        "metrics.box.maps   # a list contains map50-95(B) of each category\n",
        "metrics.seg.map    # map50-95(M)\n",
        "metrics.seg.map50  # map50(M)\n",
        "metrics.seg.map75  # map75(M)\n",
        "metrics.seg.maps   # a list contains map50-95(M) of each category"
      ],
      "metadata": {
        "colab": {
          "base_uri": "https://localhost:8080/",
          "height": 817
        },
        "id": "SB3XpmK66cOF",
        "outputId": "88a0a438-fb1b-4fb3-8314-f168b13884e5"
      },
      "execution_count": null,
      "outputs": [
        {
          "output_type": "stream",
          "name": "stderr",
          "text": [
            "Ultralytics YOLOv8.0.20 🚀 Python-3.10.12 torch-2.1.0+cu118 CUDA:0 (Tesla V100-SXM2-16GB, 16151MiB)\n",
            "YOLOv8s-seg summary (fused): 195 layers, 11783470 parameters, 0 gradients, 42.5 GFLOPs\n",
            "\u001b[34m\u001b[1mval: \u001b[0mScanning /content/dataset_1.0/dataset_1.0/valid/labels.cache... 1435 images, 0 backgrounds, 0 corrupt: 100%|██████████| 1435/1435 [00:00<?, ?it/s]\n",
            "\u001b[34m\u001b[1mval: \u001b[0mWARNING ⚠️ /content/dataset_1.0/dataset_1.0/valid/images/DS1_6-7_2270.jpg: 1 duplicate labels removed\n",
            "                 Class     Images  Instances      Box(P          R      mAP50  mAP50-95)     Mask(P          R      mAP50  mAP50-95): 100%|██████████| 90/90 [00:32<00:00,  2.77it/s]\n",
            "                   all       1435       4732      0.763        0.6       0.67      0.541      0.744      0.589      0.641      0.471\n",
            "   Agricultural object       1435        173      0.858       0.85      0.923      0.827      0.868      0.861      0.922      0.823\n",
            "                Fields       1435        661      0.924      0.877      0.924      0.856      0.923      0.877       0.92      0.844\n",
            "                Forest       1435        752      0.822      0.713      0.797      0.668      0.813      0.706       0.78      0.593\n",
            "             Grassland       1435       1033      0.826      0.711      0.794      0.669      0.814      0.701      0.773      0.607\n",
            "   Industrial facility       1435         79        0.4     0.0759      0.159      0.109      0.333     0.0633      0.107     0.0774\n",
            "           Power lines       1435        147      0.837      0.578      0.632      0.419      0.837      0.578      0.614      0.278\n",
            "       Public facility       1435        132      0.711      0.303      0.402      0.289       0.71      0.303      0.397      0.248\n",
            "  Residential facility       1435        824       0.65      0.521      0.594      0.405      0.659      0.528      0.595      0.368\n",
            "                  Road       1435        689      0.793      0.663      0.742      0.601      0.723      0.607       0.64      0.412\n",
            "                 Water       1435        242      0.812      0.707      0.737      0.564      0.758       0.66      0.656      0.464\n",
            "Speed: 0.2ms pre-process, 4.2ms inference, 0.0ms loss, 1.8ms post-process per image\n",
            "Ultralytics YOLOv8.0.20 🚀 Python-3.10.12 torch-2.1.0+cu118 CUDA:0 (Tesla V100-SXM2-16GB, 16151MiB)\n",
            "\u001b[34m\u001b[1mval: \u001b[0mScanning /content/dataset_1.0/dataset_1.0/valid/labels.cache... 1435 images, 0 backgrounds, 0 corrupt: 100%|██████████| 1435/1435 [00:00<?, ?it/s]\n",
            "\u001b[34m\u001b[1mval: \u001b[0mWARNING ⚠️ /content/dataset_1.0/dataset_1.0/valid/images/DS1_6-7_2270.jpg: 1 duplicate labels removed\n",
            "                 Class     Images  Instances      Box(P          R      mAP50  mAP50-95)     Mask(P          R      mAP50  mAP50-95): 100%|██████████| 90/90 [00:31<00:00,  2.85it/s]\n",
            "                   all       1435       4732      0.763        0.6       0.67      0.541      0.744      0.589      0.641      0.471\n",
            "   Agricultural object       1435        173      0.858       0.85      0.923      0.827      0.868      0.861      0.922      0.823\n",
            "                Fields       1435        661      0.924      0.877      0.924      0.856      0.923      0.877       0.92      0.844\n",
            "                Forest       1435        752      0.822      0.713      0.797      0.668      0.813      0.706       0.78      0.593\n",
            "             Grassland       1435       1033      0.826      0.711      0.794      0.669      0.814      0.701      0.773      0.607\n",
            "   Industrial facility       1435         79        0.4     0.0759      0.159      0.109      0.333     0.0633      0.107     0.0774\n",
            "           Power lines       1435        147      0.837      0.578      0.632      0.419      0.837      0.578      0.614      0.278\n",
            "       Public facility       1435        132      0.711      0.303      0.402      0.289       0.71      0.303      0.397      0.248\n",
            "  Residential facility       1435        824       0.65      0.521      0.594      0.405      0.659      0.528      0.595      0.368\n",
            "                  Road       1435        689      0.793      0.663      0.742      0.601      0.723      0.607       0.64      0.412\n",
            "                 Water       1435        242      0.812      0.707      0.737      0.564      0.758       0.66      0.656      0.464\n",
            "Speed: 0.2ms pre-process, 4.0ms inference, 0.0ms loss, 1.8ms post-process per image\n"
          ]
        },
        {
          "output_type": "error",
          "ename": "AttributeError",
          "evalue": "ignored",
          "traceback": [
            "\u001b[0;31m---------------------------------------------------------------------------\u001b[0m",
            "\u001b[0;31mAttributeError\u001b[0m                            Traceback (most recent call last)",
            "\u001b[0;32m<ipython-input-58-75f158b8a5fa>\u001b[0m in \u001b[0;36m<cell line: 8>\u001b[0;34m()\u001b[0m\n\u001b[1;32m      6\u001b[0m \u001b[0mmodel4\u001b[0m\u001b[0;34m.\u001b[0m\u001b[0mval\u001b[0m\u001b[0;34m(\u001b[0m\u001b[0;34m)\u001b[0m  \u001b[0;31m# оцените производительность модели на наборе проверки\u001b[0m\u001b[0;34m\u001b[0m\u001b[0;34m\u001b[0m\u001b[0m\n\u001b[1;32m      7\u001b[0m \u001b[0mmetrics\u001b[0m \u001b[0;34m=\u001b[0m \u001b[0mmodel4\u001b[0m\u001b[0;34m.\u001b[0m\u001b[0mval\u001b[0m\u001b[0;34m(\u001b[0m\u001b[0;34m)\u001b[0m  \u001b[0;31m# no arguments needed, dataset and settings remembered\u001b[0m\u001b[0;34m\u001b[0m\u001b[0;34m\u001b[0m\u001b[0m\n\u001b[0;32m----> 8\u001b[0;31m \u001b[0mmetrics\u001b[0m\u001b[0;34m.\u001b[0m\u001b[0mbox\u001b[0m\u001b[0;34m.\u001b[0m\u001b[0mmap\u001b[0m    \u001b[0;31m# map50-95(B)\u001b[0m\u001b[0;34m\u001b[0m\u001b[0;34m\u001b[0m\u001b[0m\n\u001b[0m\u001b[1;32m      9\u001b[0m \u001b[0mmetrics\u001b[0m\u001b[0;34m.\u001b[0m\u001b[0mbox\u001b[0m\u001b[0;34m.\u001b[0m\u001b[0mmap50\u001b[0m  \u001b[0;31m# map50(B)\u001b[0m\u001b[0;34m\u001b[0m\u001b[0;34m\u001b[0m\u001b[0m\n\u001b[1;32m     10\u001b[0m \u001b[0mmetrics\u001b[0m\u001b[0;34m.\u001b[0m\u001b[0mbox\u001b[0m\u001b[0;34m.\u001b[0m\u001b[0mmap75\u001b[0m  \u001b[0;31m# map75(B)\u001b[0m\u001b[0;34m\u001b[0m\u001b[0;34m\u001b[0m\u001b[0m\n",
            "\u001b[0;31mAttributeError\u001b[0m: 'NoneType' object has no attribute 'box'"
          ]
        }
      ]
    },
    {
      "cell_type": "code",
      "source": [
        "model5.predict(source=\"/content/plant_test.jpg\", save=True)  # предсказать по изображению\n"
      ],
      "metadata": {
        "colab": {
          "base_uri": "https://localhost:8080/"
        },
        "id": "mQVG076m6mqS",
        "outputId": "f3dc7a3a-8053-4de2-c277-74330e4f4125"
      },
      "execution_count": null,
      "outputs": [
        {
          "output_type": "stream",
          "name": "stderr",
          "text": [
            "Ultralytics YOLOv8.0.20 🚀 Python-3.10.12 torch-2.1.0+cu118 CUDA:0 (Tesla V100-SXM2-16GB, 16151MiB)\n",
            "YOLOv8s-seg summary (fused): 195 layers, 11783470 parameters, 0 gradients, 42.5 GFLOPs\n",
            "Results saved to \u001b[1m/content/runs/predict\u001b[0m\n"
          ]
        },
        {
          "output_type": "execute_result",
          "data": {
            "text/plain": [
              "[Ultralytics YOLO <class 'ultralytics.yolo.engine.results.Boxes'> masks\n",
              " type: <class 'torch.Tensor'>\n",
              " shape: torch.Size([11, 6])\n",
              " dtype: torch.float32\n",
              "  + tensor([[3.39000e+02, 1.38000e+02, 3.96000e+02, 2.05000e+02, 6.87915e-01, 7.00000e+00],\n",
              "         [3.77000e+02, 1.71000e+02, 5.82000e+02, 3.68000e+02, 6.20954e-01, 7.00000e+00],\n",
              "         [4.13000e+02, 9.90000e+01, 4.74000e+02, 1.63000e+02, 5.94115e-01, 7.00000e+00],\n",
              "         [5.34000e+02, 1.27000e+02, 6.27000e+02, 2.12000e+02, 5.37429e-01, 7.00000e+00],\n",
              "         [5.55000e+02, 3.26000e+02, 6.22000e+02, 3.93000e+02, 4.14397e-01, 7.00000e+00],\n",
              "         [1.84000e+02, 2.75000e+02, 2.30000e+02, 3.16000e+02, 4.09055e-01, 7.00000e+00],\n",
              "         [3.00000e+00, 0.00000e+00, 7.14000e+02, 4.95000e+02, 3.79945e-01, 4.00000e+00],\n",
              "         [4.84000e+02, 3.90000e+01, 5.17000e+02, 7.10000e+01, 3.76819e-01, 7.00000e+00],\n",
              "         [2.66000e+02, 1.06000e+02, 3.44000e+02, 1.70000e+02, 2.84687e-01, 7.00000e+00],\n",
              "         [1.00000e+00, 4.03000e+02, 7.99000e+02, 5.20000e+02, 2.68281e-01, 8.00000e+00],\n",
              "         [3.77000e+02, 2.75000e+02, 4.16000e+02, 3.15000e+02, 2.60772e-01, 7.00000e+00]], device='cuda:0')Ultralytics YOLO <class 'ultralytics.yolo.engine.results.Masks'> masks\n",
              " type: <class 'torch.Tensor'>\n",
              " shape: torch.Size([11, 448, 640])\n",
              " dtype: torch.float32\n",
              "  + tensor([[[0., 0., 0.,  ..., 0., 0., 0.],\n",
              "          [0., 0., 0.,  ..., 0., 0., 0.],\n",
              "          [0., 0., 0.,  ..., 0., 0., 0.],\n",
              "          ...,\n",
              "          [0., 0., 0.,  ..., 0., 0., 0.],\n",
              "          [0., 0., 0.,  ..., 0., 0., 0.],\n",
              "          [0., 0., 0.,  ..., 0., 0., 0.]],\n",
              " \n",
              "         [[0., 0., 0.,  ..., 0., 0., 0.],\n",
              "          [0., 0., 0.,  ..., 0., 0., 0.],\n",
              "          [0., 0., 0.,  ..., 0., 0., 0.],\n",
              "          ...,\n",
              "          [0., 0., 0.,  ..., 0., 0., 0.],\n",
              "          [0., 0., 0.,  ..., 0., 0., 0.],\n",
              "          [0., 0., 0.,  ..., 0., 0., 0.]],\n",
              " \n",
              "         [[0., 0., 0.,  ..., 0., 0., 0.],\n",
              "          [0., 0., 0.,  ..., 0., 0., 0.],\n",
              "          [0., 0., 0.,  ..., 0., 0., 0.],\n",
              "          ...,\n",
              "          [0., 0., 0.,  ..., 0., 0., 0.],\n",
              "          [0., 0., 0.,  ..., 0., 0., 0.],\n",
              "          [0., 0., 0.,  ..., 0., 0., 0.]],\n",
              " \n",
              "         ...,\n",
              " \n",
              "         [[0., 0., 0.,  ..., 0., 0., 0.],\n",
              "          [0., 0., 0.,  ..., 0., 0., 0.],\n",
              "          [0., 0., 0.,  ..., 0., 0., 0.],\n",
              "          ...,\n",
              "          [0., 0., 0.,  ..., 0., 0., 0.],\n",
              "          [0., 0., 0.,  ..., 0., 0., 0.],\n",
              "          [0., 0., 0.,  ..., 0., 0., 0.]],\n",
              " \n",
              "         [[0., 0., 0.,  ..., 0., 0., 0.],\n",
              "          [0., 0., 0.,  ..., 0., 0., 0.],\n",
              "          [0., 0., 0.,  ..., 0., 0., 0.],\n",
              "          ...,\n",
              "          [0., 0., 0.,  ..., 0., 0., 0.],\n",
              "          [0., 0., 0.,  ..., 0., 0., 0.],\n",
              "          [0., 0., 0.,  ..., 0., 0., 0.]],\n",
              " \n",
              "         [[0., 0., 0.,  ..., 0., 0., 0.],\n",
              "          [0., 0., 0.,  ..., 0., 0., 0.],\n",
              "          [0., 0., 0.,  ..., 0., 0., 0.],\n",
              "          ...,\n",
              "          [0., 0., 0.,  ..., 0., 0., 0.],\n",
              "          [0., 0., 0.,  ..., 0., 0., 0.],\n",
              "          [0., 0., 0.,  ..., 0., 0., 0.]]], device='cuda:0')]"
            ]
          },
          "metadata": {},
          "execution_count": 21
        }
      ]
    },
    {
      "cell_type": "code",
      "source": [
        "model5.predict(source=\"/content/hotel.jpg\", save=True)  # предсказать по изображению\n"
      ],
      "metadata": {
        "colab": {
          "base_uri": "https://localhost:8080/"
        },
        "outputId": "3bf10262-681c-4a66-fa02-2ed4d4a52027",
        "id": "zcxH5UjiPH2X"
      },
      "execution_count": null,
      "outputs": [
        {
          "output_type": "stream",
          "name": "stderr",
          "text": [
            "Results saved to \u001b[1m/content/runs/predict\u001b[0m\n"
          ]
        },
        {
          "output_type": "execute_result",
          "data": {
            "text/plain": [
              "[Ultralytics YOLO <class 'ultralytics.yolo.engine.results.Boxes'> masks\n",
              " type: <class 'torch.Tensor'>\n",
              " shape: torch.Size([12, 6])\n",
              " dtype: torch.float32\n",
              "  + tensor([[2.00000e+02, 1.00000e+00, 8.87000e+02, 2.29000e+02, 8.60971e-01, 2.00000e+00],\n",
              "         [4.00000e+00, 5.70000e+01, 4.03000e+02, 5.41000e+02, 6.46077e-01, 2.00000e+00],\n",
              "         [1.00000e+00, 2.00000e+01, 1.24000e+02, 2.06000e+02, 6.37445e-01, 7.00000e+00],\n",
              "         [3.24000e+02, 5.48000e+02, 5.22000e+02, 6.66000e+02, 5.65429e-01, 2.00000e+00],\n",
              "         [0.00000e+00, 4.67000e+02, 3.10000e+02, 6.64000e+02, 5.26230e-01, 7.00000e+00],\n",
              "         [1.87000e+02, 3.61000e+02, 2.28000e+02, 3.97000e+02, 5.17698e-01, 7.00000e+00],\n",
              "         [1.19000e+02, 3.31000e+02, 1.59000e+02, 3.72000e+02, 4.05388e-01, 7.00000e+00],\n",
              "         [9.00000e+01, 3.18000e+02, 1.60000e+02, 3.67000e+02, 3.84132e-01, 7.00000e+00],\n",
              "         [7.23000e+02, 5.11000e+02, 8.89000e+02, 6.66000e+02, 3.77528e-01, 2.00000e+00],\n",
              "         [9.10000e+01, 3.18000e+02, 1.29000e+02, 3.63000e+02, 3.65128e-01, 7.00000e+00],\n",
              "         [1.09000e+02, 0.00000e+00, 8.01000e+02, 4.61000e+02, 3.05417e-01, 8.00000e+00],\n",
              "         [6.22000e+02, 1.21000e+02, 8.85000e+02, 2.86000e+02, 2.90428e-01, 3.00000e+00]], device='cuda:0')Ultralytics YOLO <class 'ultralytics.yolo.engine.results.Masks'> masks\n",
              " type: <class 'torch.Tensor'>\n",
              " shape: torch.Size([12, 480, 640])\n",
              " dtype: torch.float32\n",
              "  + tensor([[[0., 0., 0.,  ..., 0., 0., 0.],\n",
              "          [0., 0., 0.,  ..., 0., 0., 0.],\n",
              "          [0., 0., 0.,  ..., 0., 0., 0.],\n",
              "          ...,\n",
              "          [0., 0., 0.,  ..., 0., 0., 0.],\n",
              "          [0., 0., 0.,  ..., 0., 0., 0.],\n",
              "          [0., 0., 0.,  ..., 0., 0., 0.]],\n",
              " \n",
              "         [[0., 0., 0.,  ..., 0., 0., 0.],\n",
              "          [0., 0., 0.,  ..., 0., 0., 0.],\n",
              "          [0., 0., 0.,  ..., 0., 0., 0.],\n",
              "          ...,\n",
              "          [0., 0., 0.,  ..., 0., 0., 0.],\n",
              "          [0., 0., 0.,  ..., 0., 0., 0.],\n",
              "          [0., 0., 0.,  ..., 0., 0., 0.]],\n",
              " \n",
              "         [[0., 0., 0.,  ..., 0., 0., 0.],\n",
              "          [0., 0., 0.,  ..., 0., 0., 0.],\n",
              "          [0., 0., 0.,  ..., 0., 0., 0.],\n",
              "          ...,\n",
              "          [0., 0., 0.,  ..., 0., 0., 0.],\n",
              "          [0., 0., 0.,  ..., 0., 0., 0.],\n",
              "          [0., 0., 0.,  ..., 0., 0., 0.]],\n",
              " \n",
              "         ...,\n",
              " \n",
              "         [[0., 0., 0.,  ..., 0., 0., 0.],\n",
              "          [0., 0., 0.,  ..., 0., 0., 0.],\n",
              "          [0., 0., 0.,  ..., 0., 0., 0.],\n",
              "          ...,\n",
              "          [0., 0., 0.,  ..., 0., 0., 0.],\n",
              "          [0., 0., 0.,  ..., 0., 0., 0.],\n",
              "          [0., 0., 0.,  ..., 0., 0., 0.]],\n",
              " \n",
              "         [[0., 0., 0.,  ..., 0., 0., 0.],\n",
              "          [0., 0., 0.,  ..., 0., 0., 0.],\n",
              "          [0., 0., 0.,  ..., 0., 0., 0.],\n",
              "          ...,\n",
              "          [0., 0., 0.,  ..., 0., 0., 0.],\n",
              "          [0., 0., 0.,  ..., 0., 0., 0.],\n",
              "          [0., 0., 0.,  ..., 0., 0., 0.]],\n",
              " \n",
              "         [[0., 0., 0.,  ..., 0., 0., 0.],\n",
              "          [0., 0., 0.,  ..., 0., 0., 0.],\n",
              "          [0., 0., 0.,  ..., 0., 0., 0.],\n",
              "          ...,\n",
              "          [0., 0., 0.,  ..., 0., 0., 0.],\n",
              "          [0., 0., 0.,  ..., 0., 0., 0.],\n",
              "          [0., 0., 0.,  ..., 0., 0., 0.]]], device='cuda:0')]"
            ]
          },
          "metadata": {},
          "execution_count": 22
        }
      ]
    },
    {
      "cell_type": "code",
      "source": [
        "\n",
        "# Define source as YouTube video URL\n",
        "source = 'https://www.youtube.com/watch?v=PlPlB9C5CYE'\n",
        "\n",
        "# Run inference on the source\n",
        "model5.predict(source='https://www.youtube.com/watch?v=PlPlB9C5CYE', save=True)  # предсказать по изображению\n",
        "results=model5\n"
      ],
      "metadata": {
        "id": "4f6Z_RHVMzw_",
        "colab": {
          "base_uri": "https://localhost:8080/"
        },
        "outputId": "229ce6b3-20b2-422f-9da7-07c596d0d9cf"
      },
      "execution_count": null,
      "outputs": [
        {
          "output_type": "stream",
          "name": "stderr",
          "text": [
            "WARNING ⚠️ Environment does not support cv2.imshow() or PIL Image.show()\n",
            "\n",
            "\u001b[31m\u001b[1mrequirements:\u001b[0m YOLOv8 requirements \"pafy\" \"youtube_dl==2020.12.2\" not found, attempting AutoUpdate...\n",
            "Collecting pafy\n",
            "  Downloading pafy-0.5.5-py2.py3-none-any.whl (35 kB)\n",
            "Collecting youtube_dl==2020.12.2\n",
            "  Downloading youtube_dl-2020.12.2-py2.py3-none-any.whl (1.8 MB)\n",
            "     ━━━━━━━━━━━━━━━━━━━━━━━━━━━━━━━━━━━━━━━━ 1.8/1.8 MB 26.3 MB/s eta 0:00:00\n",
            "Installing collected packages: youtube_dl, pafy\n",
            "Successfully installed pafy-0.5.5 youtube_dl-2020.12.2\n",
            "\n",
            "\u001b[31m\u001b[1mrequirements:\u001b[0m 2 packages updated per ('pafy', 'youtube_dl==2020.12.2')\n",
            "\u001b[31m\u001b[1mrequirements:\u001b[0m ⚠️ \u001b[1mRestart runtime or rerun command for updates to take effect\u001b[0m\n",
            "\n",
            "1/1: https://www.youtube.com/watch?v=PlPlB9C5CYE...  Success (540 frames 640x360 at 23.98 FPS)\n",
            "\n",
            "WARNING ⚠️ Video stream unresponsive, please check your IP camera connection.\n",
            "Results saved to \u001b[1m/content/runs/predict\u001b[0m\n"
          ]
        }
      ]
    },
    {
      "cell_type": "code",
      "source": [
        "import cv2\n",
        "import matplotlib.pyplot as plt\n",
        "\n",
        "\n",
        "# Define source as YouTube video URL\n",
        "#Отчет в ранс показал, что данное видео в отличие от предыдущего не прочиталось!\n",
        "source = '/content/jj-autumn-fall-aerial.mp4, save=True'\n",
        "\n",
        "# Run inference on the source\n",
        "model5.predict(source='/content/jj-autumn-fall-aerial.mp4', save=True)  # предсказать по изображению\n",
        "results=model5\n"
      ],
      "metadata": {
        "colab": {
          "base_uri": "https://localhost:8080/"
        },
        "id": "XlZVhfiOXZmI",
        "outputId": "1e7c5ad0-e4c7-4882-ada0-06477696088c"
      },
      "execution_count": null,
      "outputs": [
        {
          "output_type": "stream",
          "name": "stderr",
          "text": [
            "Results saved to \u001b[1m/content/runs/predict\u001b[0m\n"
          ]
        }
      ]
    },
    {
      "cell_type": "code",
      "source": [
        "import zipfile\n",
        "\n",
        "# Путь для упаковки, перенесем всю папку ранс на гугл драйв\n",
        "folder_path = '/content/runs/'\n",
        "\n",
        "# имя архива\n",
        "zip_file = '/content/runs5.zip'\n",
        "\n",
        "# Создайте архив\n",
        "with zipfile.ZipFile(zip_file, 'w', zipfile.ZIP_DEFLATED) as zipf:\n",
        "    for root, dirs, files in os.walk(folder_path):\n",
        "        for file in files:\n",
        "            file_path = os.path.join(root, file)\n",
        "            arcname = os.path.relpath(file_path, folder_path)\n",
        "            zipf.write(file_path, arcname=arcname)\n",
        "\n",
        "print(f\"Архив {zip_file} успешно создан.\")\n"
      ],
      "metadata": {
        "colab": {
          "base_uri": "https://localhost:8080/"
        },
        "id": "tSR_me6eIt_D",
        "outputId": "7e6dbfd1-b743-45b1-c013-0bb1a4a8a841"
      },
      "execution_count": null,
      "outputs": [
        {
          "output_type": "stream",
          "name": "stdout",
          "text": [
            "Архив /content/runs5.zip успешно создан.\n"
          ]
        }
      ]
    },
    {
      "cell_type": "code",
      "source": [
        "import shutil\n",
        "\n",
        "# Путь к созданному вами архиву\n",
        "zip_file_path = '/content/runs5.zip'\n",
        "\n",
        "# Путь к месту на Google Drive, куда хотите переместить архив\n",
        "drive_destination_path = '/content/drive/My Drive/'\n",
        "\n",
        "# Скопируйте архив на Google Drive\n",
        "shutil.copy(zip_file_path, drive_destination_path)\n",
        "\n",
        "print(f\"Архив {zip_file_path} успешно скопирован на Google Drive в папку {drive_destination_path}.\")\n",
        "\n",
        "\n"
      ],
      "metadata": {
        "colab": {
          "base_uri": "https://localhost:8080/"
        },
        "id": "ebA8mpudJm1E",
        "outputId": "2faee179-fff3-4bbe-fd25-684f650cee33"
      },
      "execution_count": null,
      "outputs": [
        {
          "output_type": "stream",
          "name": "stdout",
          "text": [
            "Архив /content/runs5.zip успешно скопирован на Google Drive в папку /content/drive/My Drive/.\n"
          ]
        }
      ]
    },
    {
      "cell_type": "code",
      "source": [
        "# Добавление предсказаний модели\n",
        "# при наличии платформы 51, в данном коде не запускалась\n",
        "sample[\"prediction\"] = fo.Classification(label=\"dog\", confidence=0.9)\n",
        "sample.save()\n",
        "\n",
        "# Использование встроенных функций для анализа\n",
        "results = dataset.evaluate_classifications(\"predictions\", gt_field=\"label\", eval_key=\"eval\")\n"
      ],
      "metadata": {
        "id": "ZVPpJY5GF8lw"
      },
      "execution_count": null,
      "outputs": []
    }
  ]
}